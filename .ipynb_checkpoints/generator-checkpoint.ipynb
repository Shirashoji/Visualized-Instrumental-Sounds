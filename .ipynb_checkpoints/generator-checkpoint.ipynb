{
 "cells": [
  {
   "cell_type": "code",
   "execution_count": 1,
   "id": "a8b8134b-9bd5-42a4-b75a-19427ba1a0d2",
   "metadata": {},
   "outputs": [],
   "source": [
    "import numpy as np\n",
    "from scipy.io import wavfile\n",
    "from scipy.fft import fft\n",
    "import japanize_matplotlib\n",
    "import matplotlib.pyplot as plt\n",
    "from scipy import signal\n",
    "import librosa\n",
    "import IPython.display as ipd"
   ]
  },
  {
   "cell_type": "code",
   "execution_count": 2,
   "id": "21cc0af2-a296-46b5-a8f3-1fdf1fc8020b",
   "metadata": {},
   "outputs": [],
   "source": [
    "# 音声ファイルの振幅スペクトルをFFTで計算し、画像として保存する\n",
    "# 引数\n",
    "#   dir: 音声ファイルが存在するディレクトリ\n",
    "#   file_name: 音声ファイルの名前\n",
    "\n",
    "def FFTPlot(dir, file_name):\n",
    "    fs, y = wavfile.read(dir + file_name)\n",
    "    y = np.mean(y, axis=1) if len(y.shape) > 1 else y\n",
    "    y1 = y[0 : fs]\n",
    "    Y1 = fft(y1)\n",
    "    Y1_half = Y1[0 : int(len(Y1)/9)]\n",
    "    spec = np.abs(Y1_half)\n",
    "    fig = plt.figure()\n",
    "    ax = fig.add_subplot(111)\n",
    "    ax.set_xlabel(\"周波数[Hz]\")\n",
    "    ax.set_ylabel(\"振幅\")\n",
    "    ax.set_title(\"\\\"\" + file_name + \"\\\"の振幅スペクトル\")\n",
    "    ax.plot(spec)\n",
    "    plt.rcParams[\"svg.fonttype\"] = \"none\"\n",
    "    fig.savefig(\"./images/amp-spectrum/\" + file_name.replace(\".wav\", \"_FFT.svg\"))\n",
    "    plt.close()"
   ]
  },
  {
   "cell_type": "code",
   "execution_count": 3,
   "id": "0d3dbcec-b242-4519-806a-bf82af39725f",
   "metadata": {},
   "outputs": [],
   "source": [
    "# 音声ファイルの波形を画像として保存する\n",
    "# 引数\n",
    "#   dir: 音声ファイルが存在するディレクトリ\n",
    "#   file_name: 音声ファイルの名前\n",
    "\n",
    "\n",
    "def WavePlot(dir, file_name):\n",
    "    fs, y = wavfile.read(dir + file_name)\n",
    "    t = np.arange(0, len(y)/fs, 1/fs)\n",
    "    fig = plt.figure()\n",
    "    ax = fig.add_subplot(111)\n",
    "    ax.set_xlabel(\"時間[s]\")\n",
    "    ax.set_ylabel(\"振幅\")\n",
    "    ax.set_title(\"\\\"\" + file_name + \"\\\"の波形グラフ\")\n",
    "    ax.plot(t, y)\n",
    "    plt.rcParams[\"svg.fonttype\"] = \"none\"\n",
    "    fig.savefig(\"./images/Waveforms/\" + file_name.replace(\".wav\", \"_WAVEFORM.svg\"))\n",
    "    plt.close()"
   ]
  },
  {
   "cell_type": "code",
   "execution_count": 4,
   "id": "6efd2ac4-7c82-49f3-bdab-b5db11288243",
   "metadata": {},
   "outputs": [],
   "source": [
    "# 音声ファイルのスペクトログラムを画像として保存する\n",
    "# 引数\n",
    "#   dir: 音声ファイルが存在するディレクトリ\n",
    "#   file_name: 音声ファイルの名前\n",
    "\n",
    "\n",
    "def Spectrogram(dir, file_name, winsize = 1024):\n",
    "    fs, y = wavfile.read(dir + file_name)\n",
    "    y = np.mean(y, axis=1) if len(y.shape) > 1 else y\n",
    "    window = signal.windows.hann(winsize)\n",
    "    f, t, Y = signal.stft(y, fs, window=window, \n",
    "                          nperseg=winsize, noverlap=winsize-0.01*fs)\n",
    "    fig = plt.figure()\n",
    "    ax = fig.add_subplot(111)\n",
    "    ax.set_xlabel(\"時間[s]\")\n",
    "    ax.set_ylabel(\"周波数[Hz]\")\n",
    "    ax.set_title(\"\\\"\" + file_name + \"\\\"のスペクトログラム\")\n",
    "    ax.pcolormesh(t, f, np.log(np.abs(Y)+1))\n",
    "    plt.rcParams[\"svg.fonttype\"] = \"none\"\n",
    "    fig.savefig(\"./images/Spectrograms/\" + file_name.replace(\".wav\", \"_SPECTROGRAM.svg\"))\n",
    "    plt.close()"
   ]
  },
  {
   "cell_type": "code",
   "execution_count": 5,
   "id": "101cc1d2-dcf3-4a85-bad4-d04c97ff4886",
   "metadata": {},
   "outputs": [
    {
     "ename": "FileNotFoundError",
     "evalue": "[Errno 2] No such file or directory: './wavdata/001_A4.wav'",
     "output_type": "error",
     "traceback": [
      "\u001b[0;31m---------------------------------------------------------------------------\u001b[0m",
      "\u001b[0;31mFileNotFoundError\u001b[0m                         Traceback (most recent call last)",
      "Cell \u001b[0;32mIn [5], line 3\u001b[0m\n\u001b[1;32m      1\u001b[0m \u001b[38;5;66;03m# テスト1\u001b[39;00m\n\u001b[1;32m      2\u001b[0m \u001b[38;5;28mdir\u001b[39m \u001b[38;5;241m=\u001b[39m \u001b[38;5;124m\"\u001b[39m\u001b[38;5;124m./wavdata/\u001b[39m\u001b[38;5;124m\"\u001b[39m\n\u001b[0;32m----> 3\u001b[0m \u001b[43mFFTPlot\u001b[49m\u001b[43m(\u001b[49m\u001b[38;5;28;43mdir\u001b[39;49m\u001b[43m,\u001b[49m\u001b[43m \u001b[49m\u001b[38;5;124;43m\"\u001b[39;49m\u001b[38;5;124;43m001_A4.wav\u001b[39;49m\u001b[38;5;124;43m\"\u001b[39;49m\u001b[43m)\u001b[49m\n\u001b[1;32m      5\u001b[0m \u001b[38;5;66;03m# テスト2\u001b[39;00m\n\u001b[1;32m      6\u001b[0m \u001b[38;5;28mdir\u001b[39m \u001b[38;5;241m=\u001b[39m \u001b[38;5;124m\"\u001b[39m\u001b[38;5;124m./wavdata/\u001b[39m\u001b[38;5;124m\"\u001b[39m\n",
      "Cell \u001b[0;32mIn [2], line 7\u001b[0m, in \u001b[0;36mFFTPlot\u001b[0;34m(dir, file_name)\u001b[0m\n\u001b[1;32m      6\u001b[0m \u001b[38;5;28;01mdef\u001b[39;00m \u001b[38;5;21mFFTPlot\u001b[39m(\u001b[38;5;28mdir\u001b[39m, file_name):\n\u001b[0;32m----> 7\u001b[0m     fs, y \u001b[38;5;241m=\u001b[39m \u001b[43mwavfile\u001b[49m\u001b[38;5;241;43m.\u001b[39;49m\u001b[43mread\u001b[49m\u001b[43m(\u001b[49m\u001b[38;5;28;43mdir\u001b[39;49m\u001b[43m \u001b[49m\u001b[38;5;241;43m+\u001b[39;49m\u001b[43m \u001b[49m\u001b[43mfile_name\u001b[49m\u001b[43m)\u001b[49m\n\u001b[1;32m      8\u001b[0m     y \u001b[38;5;241m=\u001b[39m np\u001b[38;5;241m.\u001b[39mmean(y, axis\u001b[38;5;241m=\u001b[39m\u001b[38;5;241m1\u001b[39m) \u001b[38;5;28;01mif\u001b[39;00m \u001b[38;5;28mlen\u001b[39m(y\u001b[38;5;241m.\u001b[39mshape) \u001b[38;5;241m>\u001b[39m \u001b[38;5;241m1\u001b[39m \u001b[38;5;28;01melse\u001b[39;00m y\n\u001b[1;32m      9\u001b[0m     y1 \u001b[38;5;241m=\u001b[39m y[\u001b[38;5;241m0\u001b[39m : fs]\n",
      "File \u001b[0;32m~/.anyenv/envs/pyenv/versions/3.10.8/lib/python3.10/site-packages/scipy/io/wavfile.py:647\u001b[0m, in \u001b[0;36mread\u001b[0;34m(filename, mmap)\u001b[0m\n\u001b[1;32m    645\u001b[0m     mmap \u001b[38;5;241m=\u001b[39m \u001b[38;5;28;01mFalse\u001b[39;00m\n\u001b[1;32m    646\u001b[0m \u001b[38;5;28;01melse\u001b[39;00m:\n\u001b[0;32m--> 647\u001b[0m     fid \u001b[38;5;241m=\u001b[39m \u001b[38;5;28;43mopen\u001b[39;49m\u001b[43m(\u001b[49m\u001b[43mfilename\u001b[49m\u001b[43m,\u001b[49m\u001b[43m \u001b[49m\u001b[38;5;124;43m'\u001b[39;49m\u001b[38;5;124;43mrb\u001b[39;49m\u001b[38;5;124;43m'\u001b[39;49m\u001b[43m)\u001b[49m\n\u001b[1;32m    649\u001b[0m \u001b[38;5;28;01mtry\u001b[39;00m:\n\u001b[1;32m    650\u001b[0m     file_size, is_big_endian \u001b[38;5;241m=\u001b[39m _read_riff_chunk(fid)\n",
      "\u001b[0;31mFileNotFoundError\u001b[0m: [Errno 2] No such file or directory: './wavdata/001_A4.wav'"
     ]
    }
   ],
   "source": [
    "# # テスト1\n",
    "# dir = \"./wavdata/\"\n",
    "# FFTPlot(dir, \"001_A4.wav\")\n",
    "\n",
    "# # テスト2\n",
    "# dir = \"./wavdata/\"\n",
    "# WavePlot(dir, \"001_A4.wav\")\n",
    "\n",
    "# # テスト3\n",
    "# dir = \"./wavdata/\"\n",
    "# Spectrogram(dir, \"001_A4.wav\")"
   ]
  },
  {
   "cell_type": "code",
   "execution_count": null,
   "id": "05b65a74-77d8-4374-baf2-2c6d583abdc6",
   "metadata": {},
   "outputs": [],
   "source": [
    "# 実際に生成\n",
    "import os\n",
    "dir = \"./wavdata/\"\n",
    "for i in os.listdir('./wavdata/'):\n",
    "    FFTPlot(dir, i)\n",
    "    WavePlot(dir, i)\n",
    "    Spectrogram(dir, i)"
   ]
  }
 ],
 "metadata": {
  "kernelspec": {
   "display_name": "Python 3 (ipykernel)",
   "language": "python",
   "name": "python3"
  },
  "language_info": {
   "codemirror_mode": {
    "name": "ipython",
    "version": 3
   },
   "file_extension": ".py",
   "mimetype": "text/x-python",
   "name": "python",
   "nbconvert_exporter": "python",
   "pygments_lexer": "ipython3",
   "version": "3.10.8"
  }
 },
 "nbformat": 4,
 "nbformat_minor": 5
}
