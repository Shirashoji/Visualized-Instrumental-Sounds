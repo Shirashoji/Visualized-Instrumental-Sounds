{
 "cells": [
  {
   "cell_type": "code",
   "execution_count": 1,
   "id": "a8b8134b-9bd5-42a4-b75a-19427ba1a0d2",
   "metadata": {},
   "outputs": [],
   "source": [
    "import numpy as np\n",
    "from scipy.io import wavfile\n",
    "from scipy.fft import fft\n",
    "import japanize_matplotlib\n",
    "import matplotlib.pyplot as plt\n",
    "from scipy import signal\n",
    "import librosa\n",
    "import IPython.display as ipd"
   ]
  },
  {
   "cell_type": "code",
   "execution_count": 2,
   "id": "21cc0af2-a296-46b5-a8f3-1fdf1fc8020b",
   "metadata": {},
   "outputs": [],
   "source": [
    "# 音声ファイルの振幅スペクトルをFFTで計算し、画像として保存する\n",
    "# 引数\n",
    "#   dir: 音声ファイルが存在するディレクトリ\n",
    "#   file_name: 音声ファイルの名前\n",
    "\n",
    "def FFTPlot(dir, file_name):\n",
    "    fs, y = wavfile.read(dir + file_name)\n",
    "    y = np.mean(y, axis=1) if len(y.shape) > 1 else y\n",
    "    y1 = y[0 : fs]\n",
    "    Y1 = fft(y1)\n",
    "    Y1_half = Y1[0 : int(len(Y1)/9)]\n",
    "    spec = np.abs(Y1_half)\n",
    "    fig = plt.figure()\n",
    "    ax = fig.add_subplot(111)\n",
    "    ax.set_xlabel(\"周波数[Hz]\")\n",
    "    ax.set_ylabel(\"振幅\")\n",
    "    ax.set_title(\"\\\"\" + file_name + \"\\\"の振幅スペクトル\")\n",
    "    ax.plot(spec)\n",
    "    plt.rcParams[\"svg.fonttype\"] = \"none\"\n",
    "    fig.savefig(\"./images/amp-spectrum/\" + file_name.replace(\".wav\", \"_FFT.svg\"))\n",
    "    plt.close()"
   ]
  },
  {
   "cell_type": "code",
   "execution_count": 3,
   "id": "0d3dbcec-b242-4519-806a-bf82af39725f",
   "metadata": {},
   "outputs": [],
   "source": [
    "# 音声ファイルの波形を画像として保存する\n",
    "# 引数\n",
    "#   dir: 音声ファイルが存在するディレクトリ\n",
    "#   file_name: 音声ファイルの名前\n",
    "\n",
    "\n",
    "def WavePlot(dir, file_name):\n",
    "    fs, y = wavfile.read(dir + file_name)\n",
    "    t = np.arange(0, len(y)/fs, 1/fs)\n",
    "    fig = plt.figure()\n",
    "    ax = fig.add_subplot(111)\n",
    "    ax.set_xlabel(\"時間[s]\")\n",
    "    ax.set_ylabel(\"振幅\")\n",
    "    ax.set_title(\"\\\"\" + file_name + \"\\\"の波形グラフ\")\n",
    "    ax.plot(t, y)\n",
    "    plt.rcParams[\"svg.fonttype\"] = \"none\"\n",
    "    fig.savefig(\"./images/Waveforms/\" + file_name.replace(\".wav\", \"_WAVEFORM.svg\"))\n",
    "    plt.close()"
   ]
  },
  {
   "cell_type": "code",
   "execution_count": 4,
   "id": "6efd2ac4-7c82-49f3-bdab-b5db11288243",
   "metadata": {},
   "outputs": [],
   "source": [
    "# 音声ファイルのスペクトログラムを画像として保存する\n",
    "# 引数\n",
    "#   dir: 音声ファイルが存在するディレクトリ\n",
    "#   file_name: 音声ファイルの名前\n",
    "\n",
    "\n",
    "def Spectrogram(dir, file_name, winsize = 1024):\n",
    "    fs, y = wavfile.read(dir + file_name)\n",
    "    y = np.mean(y, axis=1) if len(y.shape) > 1 else y\n",
    "    window = signal.windows.hann(winsize)\n",
    "    f, t, Y = signal.stft(y, fs, window=window, \n",
    "                          nperseg=winsize, noverlap=winsize-0.01*fs)\n",
    "    fig = plt.figure()\n",
    "    ax = fig.add_subplot(111)\n",
    "    ax.set_xlabel(\"時間[s]\")\n",
    "    ax.set_ylabel(\"周波数[Hz]\")\n",
    "    ax.set_title(\"\\\"\" + file_name + \"\\\"のスペクトログラム\")\n",
    "    ax.pcolormesh(t, f, np.log(np.abs(Y)+1))\n",
    "    plt.rcParams[\"svg.fonttype\"] = \"none\"\n",
    "    fig.savefig(\"./images/Spectrograms/\" + file_name.replace(\".wav\", \"_SPECTROGRAM.svg\"))\n",
    "    plt.close()"
   ]
  },
  {
   "cell_type": "code",
   "execution_count": 5,
   "id": "101cc1d2-dcf3-4a85-bad4-d04c97ff4886",
   "metadata": {},
   "outputs": [],
   "source": [
    "# # テスト1\n",
    "# dir = \"./wavdata/\"\n",
    "# FFTPlot(dir, \"001_A4.wav\")\n",
    "\n",
    "# # テスト2\n",
    "# dir = \"./wavdata/\"\n",
    "# WavePlot(dir, \"001_A4.wav\")\n",
    "\n",
    "# # テスト3\n",
    "# dir = \"./wavdata/\"\n",
    "# Spectrogram(dir, \"001_A4.wav\")"
   ]
  },
  {
   "cell_type": "code",
   "execution_count": 6,
   "id": "05b65a74-77d8-4374-baf2-2c6d583abdc6",
   "metadata": {},
   "outputs": [],
   "source": [
    "# 実際に生成\n",
    "import os\n",
    "dir = \"./wavdata/\"\n",
    "for i in os.listdir('./wavdata/'):\n",
    "    FFTPlot(dir, i)\n",
    "    WavePlot(dir, i)\n",
    "    Spectrogram(dir, i)"
   ]
  }
 ],
 "metadata": {
  "kernelspec": {
   "display_name": "Python 3.10.8 64-bit ('shims')",
   "language": "python",
   "name": "python3"
  },
  "language_info": {
   "codemirror_mode": {
    "name": "ipython",
    "version": 3
   },
   "file_extension": ".py",
   "mimetype": "text/x-python",
   "name": "python",
   "nbconvert_exporter": "python",
   "pygments_lexer": "ipython3",
   "version": "3.10.8"
  },
  "vscode": {
   "interpreter": {
    "hash": "7f2c6e0ff482f6257f16618c7817582bbaba2de78e21534c27a91fae1dd03622"
   }
  }
 },
 "nbformat": 4,
 "nbformat_minor": 5
}
